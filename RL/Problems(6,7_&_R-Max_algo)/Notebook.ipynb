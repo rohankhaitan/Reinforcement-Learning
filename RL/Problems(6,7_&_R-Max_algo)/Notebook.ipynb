{
 "cells": [
  {
   "cell_type": "markdown",
   "metadata": {},
   "source": [
    "### Reinforcement Learning\n",
    "### Rohan Khaitan - MDS201812"
   ]
  },
  {
   "cell_type": "markdown",
   "metadata": {},
   "source": [
    "###  Importing Libraries"
   ]
  },
  {
   "cell_type": "code",
   "execution_count": 383,
   "metadata": {},
   "outputs": [],
   "source": [
    "import pickle\n",
    "import numpy as np\n",
    "import matplotlib.pyplot as plt"
   ]
  },
  {
   "cell_type": "code",
   "execution_count": 384,
   "metadata": {},
   "outputs": [],
   "source": [
    "import os\n",
    "os.chdir(\"/home/rohan/CMI/SEM_4/RL/Assignment_1/reinforcement\")"
   ]
  },
  {
   "cell_type": "markdown",
   "metadata": {},
   "source": [
    "### Importing the q-values for q-learning and r-max "
   ]
  },
  {
   "cell_type": "code",
   "execution_count": 385,
   "metadata": {},
   "outputs": [],
   "source": [
    "with open('/home/rohan/CMI/SEM_4/RL/Assignment_2/final_output////q10.pickle', 'rb') as f:\n",
    "     q_learn= pickle.load(f)"
   ]
  },
  {
   "cell_type": "markdown",
   "metadata": {},
   "source": [
    "### Different values of m"
   ]
  },
  {
   "cell_type": "code",
   "execution_count": 386,
   "metadata": {},
   "outputs": [],
   "source": [
    "m = [5,8,10,12,15,18,20,22,25,28,30,32,35,38,40,42,45,48,50,55,60,62,65,68,70,72,75,78,80,82,85,88,90,92,95,98,100,102,105,108]"
   ]
  },
  {
   "cell_type": "code",
   "execution_count": 387,
   "metadata": {},
   "outputs": [],
   "source": [
    "#m = [5,10,15,20,25,30,35,40,45,50,55,60,65,70,75,80]"
   ]
  },
  {
   "cell_type": "markdown",
   "metadata": {},
   "source": [
    "### Dictionary of q-values for each m"
   ]
  },
  {
   "cell_type": "code",
   "execution_count": 388,
   "metadata": {},
   "outputs": [],
   "source": [
    "dic_rmax={}\n",
    "for i in m:\n",
    "    with open(\"/home/rohan/CMI/SEM_4/RL/Assignment_2/final_output//RMax\"+str(i)+\".pickle\", 'rb') as f:\n",
    "        dic_rmax[i]= pickle.load(f)"
   ]
  },
  {
   "cell_type": "markdown",
   "metadata": {},
   "source": [
    "### Function to compute norm difference"
   ]
  },
  {
   "cell_type": "code",
   "execution_count": 389,
   "metadata": {},
   "outputs": [],
   "source": [
    "def compute_norm_difference(dic1,dic2):\n",
    "    if len(dic1.keys())!= len(dic2.keys()):\n",
    "        return(\"Error. Dictionary size mismatch\")\n",
    "    x=[]\n",
    "    for i in dic1.keys():\n",
    "        x.append(dic1[i]- dic2[i])\n",
    "    value= np.linalg.norm(x)\n",
    "        \n",
    "    return value"
   ]
  },
  {
   "cell_type": "markdown",
   "metadata": {},
   "source": [
    "### Norm Difference list"
   ]
  },
  {
   "cell_type": "code",
   "execution_count": 392,
   "metadata": {},
   "outputs": [],
   "source": [
    "norm_difference=[]\n",
    "for i in dic_rmax.keys():\n",
    "    norm_difference.append(compute_norm_difference(q_learn,dic_rmax[i]))"
   ]
  },
  {
   "cell_type": "markdown",
   "metadata": {},
   "source": [
    "### Plot of norm difference for each m"
   ]
  },
  {
   "cell_type": "code",
   "execution_count": 396,
   "metadata": {},
   "outputs": [
    {
     "data": {
      "image/png": "[encoded data removed]",
      "text/plain": [
       "<Figure size 432x288 with 1 Axes>"
      ]
     },
     "metadata": {
      "needs_background": "light"
     },
     "output_type": "display_data"
    }
   ],
   "source": [
    "x,y= m,norm_difference\n",
    "    \n",
    "fig = plt.figure()\n",
    "ax = fig.add_subplot(111)\n",
    "plt.plot(x,y)\n",
    "    \n",
    "    \n",
    "plt.title(\"Norm diff. between opt Q value and the Q value \\n computed using rmax for diff. choices of m -[Iter: 300]\")\n",
    "plt.savefig(\"/home/rohan/CMI/SEM_4/RL/Assignment_2/Diff_plot_last.png\")\n",
    "plt.show()"
   ]
  },
  {
   "cell_type": "markdown",
   "metadata": {},
   "source": [
    "(Default values for epsilon and learning rate.\n",
    "Results are obtained after 300 iterations. \n",
    "For 200 iterations the behaviour of the curve is same but\n",
    "the curve started going up again for m values greater than 80.)\n"
   ]
  },
  {
   "cell_type": "code",
   "execution_count": null,
   "metadata": {},
   "outputs": [],
   "source": []
  }
 ],
 "metadata": {
  "kernelspec": {
   "display_name": "Python 3",
   "language": "python",
   "name": "python3"
  },
  "language_info": {
   "codemirror_mode": {
    "name": "ipython",
    "version": 3
   },
   "file_extension": ".py",
   "mimetype": "text/x-python",
   "name": "python",
   "nbconvert_exporter": "python",
   "pygments_lexer": "ipython3",
   "version": "3.7.3"
  }
 },
 "nbformat": 4,
 "nbformat_minor": 2
}
