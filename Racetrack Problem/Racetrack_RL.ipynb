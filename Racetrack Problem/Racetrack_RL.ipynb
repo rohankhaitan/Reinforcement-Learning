{
  "nbformat": 4,
  "nbformat_minor": 0,
  "metadata": {
    "kernelspec": {
      "display_name": "Python 3",
      "language": "python",
      "name": "python3"
    },
    "language_info": {
      "codemirror_mode": {
        "name": "ipython",
        "version": 3
      },
      "file_extension": ".py",
      "mimetype": "text/x-python",
      "name": "python",
      "nbconvert_exporter": "python",
      "pygments_lexer": "ipython3",
      "version": "3.7.3"
    },
    "colab": {
      "name": "Racetrack_RL.ipynb",
      "provenance": [],
      "collapsed_sections": []
    }
  },
  "cells": [
    {
      "cell_type": "markdown",
      "metadata": {
        "id": "ldRmn_jcgKbW",
        "colab_type": "text"
      },
      "source": [
        "### Reinforcement Learning\n",
        "### Racetrack Problem"
      ]
    },
    {
      "cell_type": "markdown",
      "metadata": {
        "id": "YeaWMjQAg18r",
        "colab_type": "text"
      },
      "source": [
        "Problem Statement Link : https://www.cmi.ac.in/~madhavan/courses/aml2019/assignment2/"
      ]
    },
    {
      "cell_type": "markdown",
      "metadata": {
        "id": "2uo0y3-pXN5j",
        "colab_type": "text"
      },
      "source": [
        " \n",
        "    In the problem statement two tracks are given(Track 2 and Track 3 in my list)\n",
        "    I have used another track representation of my own(Track 1 in my list)"
      ]
    },
    {
      "cell_type": "markdown",
      "metadata": {
        "id": "-AU3htHmbRAs",
        "colab_type": "text"
      },
      "source": [
        "    Steps:\n",
        "    1. Plot each of the three tracks (Just to see the tracks)\n",
        "    2. Implement Monte-Carlo and SARSA (Environment remains same in both the case, so we have one environment class)\n",
        "    3. Plot of how we proceed towards the finishing line in an episode\n",
        "    4. Function to get results for each starting position for any track -(It takes long time)\n",
        "    5. For different epsilon, plot the convergence rate(mean_return vs no of episodes) \n",
        "    6. For different step size plot the converge rate in case of SARSA\n",
        "    7. Compare SARSA and Monte Carlo approaches"
      ]
    },
    {
      "cell_type": "markdown",
      "metadata": {
        "id": "MgnOiPWINpRw",
        "colab_type": "text"
      },
      "source": [
        "    Asked, S for start, F for finish, O for an open cell within the racetrack, B for a cell outside the boundary.\n",
        "    Used, for start 2, for end 3, for open cell within track 0 and for outside the track 1 \n",
        "    The coordinate may be out of track or may be out of max-min range of the plot. The first case, we denote that out of track thing as grass"
      ]
    },
    {
      "cell_type": "markdown",
      "metadata": {
        "id": "Yzx8wIpiV3Gl",
        "colab_type": "text"
      },
      "source": [
        "### Importing the necessary libraries"
      ]
    },
    {
      "cell_type": "code",
      "metadata": {
        "id": "GFOm1bom91eA",
        "colab_type": "code",
        "colab": {}
      },
      "source": [
        "import random\n",
        "import time\n",
        "import numpy as np\n",
        "import matplotlib.pyplot as plt\n",
        "import matplotlib.patches as mpatches\n",
        "from IPython.core.interactiveshell import InteractiveShell\n",
        "InteractiveShell.ast_node_interactivity = \"all\""
      ],
      "execution_count": null,
      "outputs": []
    },
    {
      "cell_type": "markdown",
      "metadata": {
        "id": "9Wy5CrNyBLVZ",
        "colab_type": "text"
      },
      "source": [
        "### Representation of the tracks"
      ]
    },
    {
      "cell_type": "code",
      "metadata": {
        "id": "gYq_27uu9iwK",
        "colab_type": "code",
        "colab": {}
      },
      "source": [
        "### We have 3 tracks. The task is to compute the optimal policy from each starting state for each of the tracks.\n",
        "### The track 2 and 3 are as given in the problem statement.\n",
        "### Track 1 is one of my own representation of track.\n",
        "\n",
        "TRACK_VALUE = 0 #for an open cell within the racetrack\n",
        "GRASS_VALUE = 1 #for a cell outside the boundary.\n",
        "START_VALUE = 2 #for start\n",
        "END_VALUE = 3   #for finish\n",
        "AGENT_VALUE = 4\n",
        "\n",
        "TRACKS = {\n",
        "\n",
        "  \"track_1\": np.array([\n",
        "    [1, 1, 0, 0, 0, 3],\n",
        "    [1, 1, 0, 0, 0, 3],\n",
        "    [0, 0, 0, 0, 0, 0],\n",
        "    [0, 0, 0, 1, 1, 1],\n",
        "    [0, 0, 0, 1, 1, 1],\n",
        "    [0, 0, 0, 1, 1, 1],\n",
        "    [2, 2, 2, 1, 1, 1]\n",
        "\n",
        "  ], dtype=np.int32),\n",
        "    \n",
        "   \"track_2\": np.array([\n",
        "    [1, 1, 1, 0, 0, 0, 0, 0, 0, 0, 0, 0, 0, 0, 0, 0, 3],\n",
        "    [1, 1, 0, 0, 0, 0, 0, 0, 0, 0, 0, 0, 0, 0, 0, 0, 3],\n",
        "    [1, 1, 0, 0, 0, 0, 0, 0, 0, 0, 0, 0, 0, 0, 0, 0, 3],\n",
        "    [1, 0, 0, 0, 0, 0, 0, 0, 0, 0, 0, 0, 0, 0, 0, 0, 3],\n",
        "    [0, 0, 0, 0, 0, 0, 0, 0, 0, 0, 0, 0, 0, 0, 0, 0, 3],\n",
        "    [0, 0, 0, 0, 0, 0, 0, 0, 0, 0, 1, 1, 1, 1, 1, 1, 1],\n",
        "    [0, 0, 0, 0, 0, 0, 0, 0, 0, 1, 1, 1, 1, 1, 1, 1, 1],\n",
        "    [0, 0, 0, 0, 0, 0, 0, 0, 0, 1, 1, 1, 1, 1, 1, 1, 1],\n",
        "    [0, 0, 0, 0, 0, 0, 0, 0, 0, 1, 1, 1, 1, 1, 1, 1, 1],\n",
        "    [0, 0, 0, 0, 0, 0, 0, 0, 0, 1, 1, 1, 1, 1, 1, 1, 1],\n",
        "    [0, 0, 0, 0, 0, 0, 0, 0, 0, 1, 1, 1, 1, 1, 1, 1, 1],\n",
        "    [0, 0, 0, 0, 0, 0, 0, 0, 0, 1, 1, 1, 1, 1, 1, 1, 1],\n",
        "    [0, 0, 0, 0, 0, 0, 0, 0, 0, 1, 1, 1, 1, 1, 1, 1, 1],\n",
        "    [1, 0, 0, 0, 0, 0, 0, 0, 0, 1, 1, 1, 1, 1, 1, 1, 1],\n",
        "    [1, 0, 0, 0, 0, 0, 0, 0, 0, 1, 1, 1, 1, 1, 1, 1, 1],\n",
        "    [1, 0, 0, 0, 0, 0, 0, 0, 0, 1, 1, 1, 1, 1, 1, 1, 1],\n",
        "    [1, 0, 0, 0, 0, 0, 0, 0, 0, 1, 1, 1, 1, 1, 1, 1, 1],\n",
        "    [1, 0, 0, 0, 0, 0, 0, 0, 0, 1, 1, 1, 1, 1, 1, 1, 1],\n",
        "    [1, 0, 0, 0, 0, 0, 0, 0, 0, 1, 1, 1, 1, 1, 1, 1, 1],\n",
        "    [1, 0, 0, 0, 0, 0, 0, 0, 0, 1, 1, 1, 1, 1, 1, 1, 1],\n",
        "    [1, 0, 0, 0, 0, 0, 0, 0, 0, 1, 1, 1, 1, 1, 1, 1, 1],\n",
        "    [1, 1, 0, 0, 0, 0, 0, 0, 0, 1, 1, 1, 1, 1, 1, 1, 1],\n",
        "    [1, 1, 0, 0, 0, 0, 0, 0, 0, 1, 1, 1, 1, 1, 1, 1, 1],\n",
        "    [1, 1, 0, 0, 0, 0, 0, 0, 0, 1, 1, 1, 1, 1, 1, 1, 1],\n",
        "    [1, 1, 0, 0, 0, 0, 0, 0, 0, 1, 1, 1, 1, 1, 1, 1, 1],\n",
        "    [1, 1, 0, 0, 0, 0, 0, 0, 0, 1, 1, 1, 1, 1, 1, 1, 1],\n",
        "    [1, 1, 0, 0, 0, 0, 0, 0, 0, 1, 1, 1, 1, 1, 1, 1, 1],\n",
        "    [1, 1, 0, 0, 0, 0, 0, 0, 0, 1, 1, 1, 1, 1, 1, 1, 1],\n",
        "    [1, 1, 0, 0, 0, 0, 0, 0, 0, 1, 1, 1, 1, 1, 1, 1, 1],\n",
        "    [1, 1, 1, 0, 0, 0, 0, 0, 0, 1, 1, 1, 1, 1, 1, 1, 1],\n",
        "    [1, 1, 1, 0, 0, 0, 0, 0, 0, 1, 1, 1, 1, 1, 1, 1, 1],\n",
        "    [1, 1, 1, 2, 2, 2, 2, 2, 2, 1, 1, 1, 1, 1, 1, 1, 1]\n",
        "   \n",
        "  ], dtype=np.int32),\n",
        "\n",
        "  \"track_3\": np.array([\n",
        "    [1, 1, 1, 1, 1, 1, 1, 1, 1, 1, 1, 1, 1, 1, 1, 0, 0, 0, 0, 0, 0, 0, 0, 0, 0, 0, 0, 0, 0, 0, 0, 3],\n",
        "    [1, 1, 1, 1, 1, 1, 1, 1, 1, 1, 1, 1, 1, 0, 0, 0, 0, 0, 0, 0, 0, 0, 0, 0, 0, 0, 0, 0, 0, 0, 0, 3],\n",
        "    [1, 1, 1, 1, 1, 1, 1, 1, 1, 1, 1, 1, 0, 0, 0, 0, 0, 0, 0, 0, 0, 0, 0, 0, 0, 0, 0, 0, 0, 0, 0, 3],\n",
        "    [1, 1, 1, 1, 1, 1, 1, 1, 1, 1, 1, 0, 0, 0, 0, 0, 0, 0, 0, 0, 0, 0, 0, 0, 0, 0, 0, 0, 0, 0, 0, 3],\n",
        "    [1, 1, 1, 1, 1, 1, 1, 1, 1, 1, 1, 0, 0, 0, 0, 0, 0, 0, 0, 0, 0, 0, 0, 0, 0, 0, 0, 0, 0, 0, 0, 3],\n",
        "    [1, 1, 1, 1, 1, 1, 1, 1, 1, 1, 1, 0, 0, 0, 0, 0, 0, 0, 0, 0, 0, 0, 0, 0, 0, 0, 0, 0, 0, 0, 0, 3],\n",
        "    [1, 1, 1, 1, 1, 1, 1, 1, 1, 1, 1, 0, 0, 0, 0, 0, 0, 0, 0, 0, 0, 0, 0, 0, 0, 0, 0, 0, 0, 0, 0, 3],\n",
        "    [1, 1, 1, 1, 1, 1, 1, 1, 1, 1, 1, 1, 0, 0, 0, 0, 0, 0, 0, 0, 0, 0, 0, 0, 0, 0, 0, 0, 0, 0, 0, 3],\n",
        "    [1, 1, 1, 1, 1, 1, 1, 1, 1, 1, 1, 1, 1, 0, 0, 0, 0, 0, 0, 0, 0, 0, 0, 0, 0, 0, 0, 0, 0, 0, 0, 3],\n",
        "    [1, 1, 1, 1, 1, 1, 1, 1, 1, 1, 1, 1, 1, 1, 0, 0, 0, 0, 0, 0, 0, 0, 0, 0, 0, 0, 0, 0, 0, 0, 1, 1],\n",
        "    [1, 1, 1, 1, 1, 1, 1, 1, 1, 1, 1, 1, 1, 1, 0, 0, 0, 0, 0, 0, 0, 0, 0, 0, 0, 0, 0, 1, 1, 1, 1, 1],\n",
        "    [1, 1, 1, 1, 1, 1, 1, 1, 1, 1, 1, 1, 1, 1, 0, 0, 0, 0, 0, 0, 0, 0, 0, 0, 0, 0, 1, 1, 1, 1, 1, 1],\n",
        "    [1, 1, 1, 1, 1, 1, 1, 1, 1, 1, 1, 1, 1, 1, 0, 0, 0, 0, 0, 0, 0, 0, 0, 0, 1, 1, 1, 1, 1, 1, 1, 1],\n",
        "    [1, 1, 1, 1, 1, 1, 1, 1, 1, 1, 1, 1, 1, 1, 0, 0, 0, 0, 0, 0, 0, 0, 0, 1, 1, 1, 1, 1, 1, 1, 1, 1],\n",
        "    [1, 1, 1, 1, 1, 1, 1, 1, 1, 1, 1, 1, 1, 0, 0, 0, 0, 0, 0, 0, 0, 0, 0, 1, 1, 1, 1, 1, 1, 1, 1, 1],\n",
        "    [1, 1, 1, 1, 1, 1, 1, 1, 1, 1, 1, 1, 0, 0, 0, 0, 0, 0, 0, 0, 0, 0, 0, 1, 1, 1, 1, 1, 1, 1, 1, 1],\n",
        "    [1, 1, 1, 1, 1, 1, 1, 1, 1, 1, 1, 0, 0, 0, 0, 0, 0, 0, 0, 0, 0, 0, 0, 1, 1, 1, 1, 1, 1, 1, 1, 1],\n",
        "    [1, 1, 1, 1, 1, 1, 1, 1, 1, 1, 0, 0, 0, 0, 0, 0, 0, 0, 0, 0, 0, 0, 0, 1, 1, 1, 1, 1, 1, 1, 1, 1],\n",
        "    [1, 1, 1, 1, 1, 1, 1, 1, 1, 0, 0, 0, 0, 0, 0, 0, 0, 0, 0, 0, 0, 0, 0, 1, 1, 1, 1, 1, 1, 1, 1, 1],\n",
        "    [1, 1, 1, 1, 1, 1, 1, 1, 0, 0, 0, 0, 0, 0, 0, 0, 0, 0, 0, 0, 0, 0, 0, 1, 1, 1, 1, 1, 1, 1, 1, 1],\n",
        "    [1, 1, 1, 1, 1, 1, 1, 0, 0, 0, 0, 0, 0, 0, 0, 0, 0, 0, 0, 0, 0, 0, 0, 1, 1, 1, 1, 1, 1, 1, 1, 1],\n",
        "    [1, 1, 1, 1, 1, 1, 0, 0, 0, 0, 0, 0, 0, 0, 0, 0, 0, 0, 0, 0, 0, 0, 0, 1, 1, 1, 1, 1, 1, 1, 1, 1],\n",
        "    [1, 1, 1, 1, 1, 0, 0, 0, 0, 0, 0, 0, 0, 0, 0, 0, 0, 0, 0, 0, 0, 0, 0, 1, 1, 1, 1, 1, 1, 1, 1, 1],\n",
        "    [1, 1, 1, 1, 0, 0, 0, 0, 0, 0, 0, 0, 0, 0, 0, 0, 0, 0, 0, 0, 0, 0, 0, 1, 1, 1, 1, 1, 1, 1, 1, 1],\n",
        "    [1, 1, 1, 0, 0, 0, 0, 0, 0, 0, 0, 0, 0, 0, 0, 0, 0, 0, 0, 0, 0, 0, 0, 1, 1, 1, 1, 1, 1, 1, 1, 1],\n",
        "    [1, 1, 0, 0, 0, 0, 0, 0, 0, 0, 0, 0, 0, 0, 0, 0, 0, 0, 0, 0, 0, 0, 0, 1, 1, 1, 1, 1, 1, 1, 1, 1],\n",
        "    [1, 0, 0, 0, 0, 0, 0, 0, 0, 0, 0, 0, 0, 0, 0, 0, 0, 0, 0, 0, 0, 0, 0, 1, 1, 1, 1, 1, 1, 1, 1, 1],\n",
        "    [0, 0, 0, 0, 0, 0, 0, 0, 0, 0, 0, 0, 0, 0, 0, 0, 0, 0, 0, 0, 0, 0, 0, 1, 1, 1, 1, 1, 1, 1, 1, 1],\n",
        "    [0, 0, 0, 0, 0, 0, 0, 0, 0, 0, 0, 0, 0, 0, 0, 0, 0, 0, 0, 0, 0, 0, 0, 1, 1, 1, 1, 1, 1, 1, 1, 1],\n",
        "    [2, 2, 2, 2, 2, 2, 2, 2, 2, 2, 2, 2, 2, 2, 2, 2, 2, 2, 2, 2, 2, 2, 2, 1, 1, 1, 1, 1, 1, 1, 1, 1]\n",
        "  ], dtype=np.int32)\n",
        "\n",
        "}\n",
        "RACETRACK_1 = \"track_1\"\n",
        "RACETRACK_2 = \"track_2\"\n",
        "RACETRACK_3 = \"track_3\"\n",
        "\n"
      ],
      "execution_count": null,
      "outputs": []
    },
    {
      "cell_type": "markdown",
      "metadata": {
        "id": "H2PEAyRrc_G0",
        "colab_type": "text"
      },
      "source": [
        "    For each of the track we have more than one starting positions.\n",
        "    We choose the starting postion randomly.\n",
        "    We can also ask for starting postion as input and then proceed."
      ]
    },
    {
      "cell_type": "markdown",
      "metadata": {
        "id": "92aZt7RvBlzL",
        "colab_type": "text"
      },
      "source": [
        "### Creating the Racetrack class\n",
        "    It contains the information of the environment.\n",
        "    How the environment will react for an action of the agent.\n",
        "    Here we set up that environment information."
      ]
    },
    {
      "cell_type": "code",
      "metadata": {
        "id": "vG3jVT1g9iwV",
        "colab_type": "code",
        "colab": {}
      },
      "source": [
        "\n",
        "class Racetrack:\n",
        "    STEP_REWARD = -1\n",
        "    OUT_OF_BOUNDS_REWARD = -50\n",
        "    def __init__(self, racetrack):\n",
        "\n",
        "        self.racetrack = racetrack\n",
        "        self.start_coordinates = None\n",
        "        self.get_start_positions()\n",
        "    \n",
        "        self.position = None\n",
        "        self.velocity = None\n",
        "        self.done = None\n",
        "        self.reset()\n",
        "        \n",
        "    def get_start_positions(self):\n",
        "        \"\"\"\n",
        "        Select start position by random (from a list of start positions).\n",
        "        :return:      None.\n",
        "        \"\"\"\n",
        "    \n",
        "        self.start_coordinates = []\n",
        "        x_coordinates, y_coordinates = np.where(self.racetrack == 2)\n",
        "    \n",
        "        for x, y in zip(x_coordinates, y_coordinates):\n",
        "    \n",
        "          self.start_coordinates.append((x, y))\n",
        "          \n",
        "    def act(self, x_change, y_change):\n",
        "        \"\"\"\n",
        "        Act in the environment.\n",
        "        :param x_change:    X acceleration.\n",
        "        :param y_change:    Y acceleration.\n",
        "        :return:            None.\n",
        "        \"\"\"\n",
        "    \n",
        "        assert not self.done\n",
        "    \n",
        "        # validation actions\n",
        "        assert -1 <= x_change <= 1\n",
        "        assert -1 <= y_change <= 1\n",
        "    \n",
        "        # update velocity\n",
        "        self.velocity = (self.velocity[0] + x_change, self.velocity[1] + y_change)\n",
        "        self.correct_velocity()\n",
        "    \n",
        "        # move car\n",
        "        last_position = self.position\n",
        "        self.update_position(self.velocity)\n",
        "        \n",
        "        # check if finished\n",
        "        if self.check_finish():\n",
        "          self.done = True\n",
        "          return self.STEP_REWARD\n",
        "    \n",
        "        # check for invalid position\n",
        "        invalid_position = False\n",
        "    \n",
        "        if self.check_position_out_of_bounds() or self.check_position_grass():\n",
        "          invalid_position = True\n",
        "          self.correct_invalid_position(last_position)\n",
        "          self.correct_same_position()\n",
        "    \n",
        "        # check if finished again\n",
        "        if self.check_finish():\n",
        "          self.done = True\n",
        "    \n",
        "          if invalid_position:\n",
        "            return self.OUT_OF_BOUNDS_REWARD\n",
        "          else:\n",
        "            return self.STEP_REWARD\n",
        "    \n",
        "        if invalid_position:\n",
        "          return self.OUT_OF_BOUNDS_REWARD\n",
        "        else:\n",
        "          return self.STEP_REWARD\n",
        "      \n",
        "    def update_position(self, velocity):\n",
        "        \"\"\"\n",
        "        Update position based on the velocity.\n",
        "        :param velocity:      Velocity.\n",
        "        :return:    None.\n",
        "        \"\"\"\n",
        "        \n",
        "        self.position = (self.position[0] - velocity[0], self.position[1] + velocity[1])\n",
        "    \n",
        "    def check_finish(self):\n",
        "        \"\"\"\n",
        "        Check if the race car reached finish.\n",
        "        :return:      None.\n",
        "        \"\"\"\n",
        "        tmp_position = self.position\n",
        "    \n",
        "        if self.position[0] < 0 or self.position[0] >= self.racetrack.shape[0]:\n",
        "          return False\n",
        "    \n",
        "        if self.position[1] < 0:\n",
        "          tmp_position = (self.position[0], 0)\n",
        "        elif self.position[1] >= self.racetrack.shape[1]:\n",
        "          tmp_position = (self.position[0], self.racetrack.shape[1] - 1)\n",
        "    \n",
        "        if self.racetrack[tmp_position] == 3:\n",
        "          return True\n",
        "        else:\n",
        "          return False\n",
        "      \n",
        "    def correct_velocity(self):\n",
        "        \"\"\"\n",
        "        Correct race car velocity. It cannot be (0, 0) and must be between 0 and 4 for both axes.\n",
        "        :return:    None.\n",
        "        \"\"\"\n",
        "    \n",
        "        # maybe correct the x component\n",
        "        if self.velocity[0] < 0:\n",
        "          self.velocity = (0, self.velocity[1])\n",
        "        elif self.velocity[0] > 4:\n",
        "          self.velocity = (4, self.velocity[1])\n",
        "    \n",
        "        # maybe correct the y component\n",
        "        if self.velocity[1] < 0:\n",
        "          self.velocity = (self.velocity[0], 0)\n",
        "        elif self.velocity[1] > 4:\n",
        "          self.velocity = (self.velocity[0], 4)\n",
        "    \n",
        "        # make sure the velocity is not 0\n",
        "        if self.velocity == (0, 0):\n",
        "          if random.choice([True, False]):\n",
        "            self.velocity = (1, 0)\n",
        "          else:\n",
        "            self.velocity = (0, 1)\n",
        "         \n",
        "    def check_position_out_of_bounds(self):\n",
        "        \"\"\"\n",
        "        Check if the race car is out of bounds.\n",
        "        :return:    True if out of bounds, otherwise False.\n",
        "        \"\"\"\n",
        "    \n",
        "        return self.position[0] < 0 or self.position[0] >= self.racetrack.shape[0] or self.position[1] < 0 or \\\n",
        "               self.position[1] >= self.racetrack.shape[1]\n",
        "    \n",
        "\n",
        "    def check_position_grass(self):\n",
        "        \"\"\"\n",
        "        Check if the race car is on grass.\n",
        "        :return:    True if on grass, otherwise False.\n",
        "        \"\"\"\n",
        "\n",
        "        return self.racetrack[self.position] == GRASS_VALUE\n",
        "    \n",
        "    def correct_invalid_position(self, last_position):\n",
        "        \"\"\"\n",
        "        Correct position that is out of bounds or on grass.\n",
        "        :param last_position:       Last position.\n",
        "        :return:                    None.\n",
        "        \"\"\"\n",
        "    \n",
        "        self.position = last_position\n",
        "        self.velocity = (0, 0)\n",
        "    \n",
        "    def correct_same_position(self):\n",
        "        \"\"\"\n",
        "        Move the car by at least one square to its target (so that each episode eventually finishes).\n",
        "        :return:    None.\n",
        "        \"\"\"\n",
        "    \n",
        "        self.update_position((1, 0))\n",
        "    \n",
        "        if self.check_position_out_of_bounds() or self.check_position_grass():\n",
        "          self.update_position((-1, 1))\n",
        "          \n",
        "    def reset(self):\n",
        "        \"\"\"\n",
        "        Reset environment.\n",
        "        :return:      None.\n",
        "        \"\"\"\n",
        "    \n",
        "        self.position = random.choice(self.start_coordinates)\n",
        "        self.velocity = (0, 0)\n",
        "        self.done = False\n",
        "        \n",
        "    def get_state(self):\n",
        "        \"\"\"\n",
        "        Get current state (position and velocity).\n",
        "        :return:    Current state.\n",
        "        \"\"\"\n",
        "    \n",
        "        return self.position[0], self.position[1], self.velocity[0], self.velocity[1]\n",
        "   \n",
        "     \n",
        "      \n",
        "    def show_racetrack(self, save_path=None, show_legend=True):\n",
        "        \n",
        "        #plt.figure(figsize=(15,5)) \n",
        "        fig, ax = plt.subplots(figsize=(15, 5))\n",
        "        im =  plt.imshow(self.racetrack)\n",
        "\n",
        "        plt.axis(\"off\")\n",
        "\n",
        "        if show_legend:\n",
        "          values = np.unique(self.racetrack.ravel())\n",
        "          labels = {\n",
        "            START_VALUE: \"start\",\n",
        "            END_VALUE: \"end\",\n",
        "            TRACK_VALUE: \"track\",\n",
        "            GRASS_VALUE: \"grass\"\n",
        "          }\n",
        "          colors = [im.cmap(im.norm(value)) for value in values]\n",
        "          patches = [mpatches.Patch(color=colors[i], label=labels[values[i]]) for i in range(len(values))]\n",
        "          plt.legend(handles=patches, loc=4)\n",
        "\n",
        "        if save_path is not None:\n",
        "          plt.savefig(save_path, bbox_inches=\"tight\")\n",
        "\n",
        "        plt.show()\n",
        "\n",
        "def update_mean(value, mean, count):\n",
        "  \"\"\"\n",
        "  Update value of a streaming mean.\n",
        "  :param value:     New value.\n",
        "  :param mean:      Mean value.\n",
        "  :param count:     Number of values averaged.\n",
        "  :return:\n",
        "  \"\"\"\n",
        "\n",
        "  return (value - mean) / (count + 1)"
      ],
      "execution_count": null,
      "outputs": []
    },
    {
      "cell_type": "markdown",
      "metadata": {
        "id": "orN08GLeB8UE",
        "colab_type": "text"
      },
      "source": [
        "### Creating the Montecarlo Class\n",
        "    It contains the Montecarlo method followed to obtain the optimal policy"
      ]
    },
    {
      "cell_type": "code",
      "metadata": {
        "id": "Fp0YcIDt9iwi",
        "colab_type": "code",
        "colab": {}
      },
      "source": [
        "#startting the on policy monte carlo\n",
        "class MonteCarlo:\n",
        "\n",
        "  NUM_ACTIONS = 9\n",
        "  NUM_SPEEDS = 5\n",
        "  ACTION_TO_ACCELERATION = np.array([[1, 1], [0, 1], [1, 0], [0, 0], [-1, 0], [0, -1], [1, -1], [-1, 1], [-1, -1]])\n",
        "\n",
        "  def __init__(self, env, epsilon, init=-100):\n",
        "    \"\"\"\n",
        "    Initialize a Monte Carlo agent for the Racetrack environment.\n",
        "    Each state is visited only once in a single episode, so the first-visit / every-visit distinction does not apply.\n",
        "    :param env:         An instance of the racetrack environment.\n",
        "    :param epsilon:     Constant for an epsilon-greedy policy.\n",
        "    :param init:        Initial action values.\n",
        "    \"\"\"\n",
        "\n",
        "    self.env = env\n",
        "    self.epsilon = epsilon\n",
        "    self.init = init\n",
        "\n",
        "    self.action_values = None\n",
        "    self.action_counts = None\n",
        "    self.policy = None\n",
        "    self.reset()\n",
        "\n",
        "  def play_episode(self, explore=True, learn=True):\n",
        "    \"\"\"\n",
        "    Play an episode.\n",
        "    :param explore:     Use exploration policy.\n",
        "    :param learn:       Update action counts and values.\n",
        "    :return:            Total return of the episode.\n",
        "    \"\"\"\n",
        "\n",
        "    sequence = []\n",
        "\n",
        "    while not self.env.done:\n",
        "\n",
        "      state = self.env.get_state()\n",
        "\n",
        "      if explore:\n",
        "        action = self.explore(self.policy[state])\n",
        "      else:\n",
        "        action = self.policy[state]\n",
        "\n",
        "      reward = self.env.act(*self.action_to_acceleration(action))\n",
        "\n",
        "      sequence.append((state, action, reward))\n",
        "\n",
        "    returns = np.zeros(len(sequence))\n",
        "\n",
        "    for i in reversed(range(len(sequence))):\n",
        "      for j in range(i + 1):\n",
        "        returns[j] += sequence[i][2]\n",
        "\n",
        "    if learn:\n",
        "      for i in range(len(sequence)):\n",
        "\n",
        "        state = sequence[i][0]\n",
        "        action = sequence[i][1]\n",
        "        state_action = state + (action,)\n",
        "        ret = returns[i]\n",
        "\n",
        "        self.action_values[state_action] += update_mean(ret, self.action_values[state_action],\n",
        "                                                              self.action_counts[state_action])\n",
        "        self.action_counts[state_action] += 1\n",
        "\n",
        "    return returns[0], sequence\n",
        "\n",
        "  def reset(self):\n",
        "    \"\"\"\n",
        "    Reset agent.\n",
        "    :return:    None.\n",
        "    \"\"\"\n",
        "\n",
        "    self.action_values = \\\n",
        "      np.zeros((self.env.racetrack.shape[0], self.env.racetrack.shape[1], self.NUM_SPEEDS, self.NUM_SPEEDS,\n",
        "                self.NUM_ACTIONS), dtype=np.float32) - self.init\n",
        "    self.action_counts = \\\n",
        "      np.zeros((self.env.racetrack.shape[0], self.env.racetrack.shape[1], self.NUM_SPEEDS, self.NUM_SPEEDS,\n",
        "                self.NUM_ACTIONS), dtype=np.int32)\n",
        "    self.policy = np.zeros((self.env.racetrack.shape[0], self.env.racetrack.shape[1], self.NUM_SPEEDS, self.NUM_SPEEDS),\n",
        "                           dtype=np.int32)\n",
        "\n",
        "  def update_policy(self):\n",
        "    \"\"\"\n",
        "    Update epsilon-greedy policy using current action values.\n",
        "    :return:    None.\n",
        "    \"\"\"\n",
        "\n",
        "    # play action with maximum action value\n",
        "    self.policy = np.argmax(self.action_values, axis=-1)\n",
        "\n",
        "  def action_to_acceleration(self, action):\n",
        "    \"\"\"\n",
        "    Translate action index into acceleration in x and y axes.\n",
        "    :param action:    Action index.\n",
        "    :return:          Acceleration in x and y axes.\n",
        "    \"\"\"\n",
        "\n",
        "    return self.ACTION_TO_ACCELERATION[action]\n",
        "\n",
        "  def explore(self, action):\n",
        "    \"\"\"\n",
        "    Select a random action with probability epsilon.\n",
        "    :param action:    Exploitation action.\n",
        "    :return:          Exploration action.\n",
        "    \"\"\"\n",
        "\n",
        "    if np.random.uniform(0, 1) < self.epsilon:\n",
        "      return np.random.randint(0, self.NUM_ACTIONS)\n",
        "    else:\n",
        "      return action\n",
        "\n",
        "  def show_sequence(self, sequence, save_path=None, show_legend=True):\n",
        "    \"\"\"\n",
        "    Show positions visited in a sequence.\n",
        "    :param sequence:        Sequence of tuples: (state, action, reward).\n",
        "    :param save_path:       Where to save the plot.\n",
        "    :param show_legend:     Show legend.\n",
        "    :return:                None.\n",
        "    \"\"\"\n",
        "\n",
        "    track = self.env.racetrack.copy()\n",
        "\n",
        "    for item in sequence:\n",
        "      state = item[0]\n",
        "      track[state[0], state[1]] = 4\n",
        "\n",
        "    fig, ax = plt.subplots(figsize=(15, 5))\n",
        "\n",
        "    im = plt.imshow(track)\n",
        "\n",
        "    plt.axis(\"off\")\n",
        "\n",
        "    if show_legend:\n",
        "      values = np.unique(track.ravel())\n",
        "      labels = {\n",
        "        START_VALUE: \"start\",\n",
        "        END_VALUE: \"end\",\n",
        "        TRACK_VALUE: \"track\",\n",
        "        GRASS_VALUE: \"grass\",\n",
        "        AGENT_VALUE: \"agent\"\n",
        "      }\n",
        "      colors = [im.cmap(im.norm(value)) for value in values]\n",
        "      patches = [mpatches.Patch(color=colors[i], label=labels[values[i]]) for i in range(len(values))]\n",
        "      plt.legend(handles=patches, loc=4)\n",
        "\n",
        "    if save_path is not None:\n",
        "      plt.savefig(save_path, bbox_inches=\"tight\")\n",
        "\n",
        "    plt.show()"
      ],
      "execution_count": null,
      "outputs": []
    },
    {
      "cell_type": "markdown",
      "metadata": {
        "id": "-zabd_AhCuoI",
        "colab_type": "text"
      },
      "source": [
        "### Solve Racetrack  \n",
        "    Creating a function which will give the mean return for different episodes for a starting position for any given track\n",
        "    We fix the no of training episode. We learn the optimal policy during this training."
      ]
    },
    {
      "cell_type": "code",
      "metadata": {
        "id": "3V06smuQ9iwn",
        "colab_type": "code",
        "colab": {}
      },
      "source": [
        "TRAINING_EPISODES      = 500000\n",
        "EVALUATION_EPISODES  = 100\n",
        "EVALUATION_FREQUENCY = 10000    ### We evaluate the mean return after 10000 episodes. Average of the returns of the 10000 episodes.\n",
        "\n",
        "def solve_track_by_montecarlo(race_track,epsilon):\n",
        "    assert race_track in TRACKS.keys()\n",
        "    \n",
        "    #create environment\n",
        "    track = TRACK[race_track]\n",
        "    \n",
        "    env = Racetrack(track)\n",
        "    \n",
        "    #create agent\n",
        "    mc = MonteCarlo(env,epsilon)\n",
        "    state = env.get_state()\n",
        "    print(\"starting state:\",state) \n",
        "    print(\"Training for {:d} Episodes\".format(TRAINING_EPISODES))\n",
        "    \n",
        "    mean_return_list=[]\n",
        "    no_of_episodes=[]\n",
        "    for episode_idx in range(TRAINING_EPISODES):\n",
        "\n",
        "        # play episode\n",
        "        mc.play_episode()\n",
        "        mc.update_policy()\n",
        "\n",
        "        env.reset()\n",
        "\n",
        "        # maybe evaluate without exploration\n",
        "        if episode_idx > 0 and episode_idx % EVALUATION_FREQUENCY == 0:\n",
        "\n",
        "            returns = []\n",
        "            \n",
        "            for _ in range(EVALUATION_EPISODES):\n",
        "\n",
        "                ret, _ = mc.play_episode(explore=False, learn=False)\n",
        "                #print(ret)\n",
        "                returns.append(ret)\n",
        "\n",
        "                env.reset()\n",
        "\n",
        "            mean_return = np.mean(returns)\n",
        "            #print(\"mean return after {:d} episodes: {:.2f}\".format(episode_idx, mean_return))\n",
        "            \n",
        "            mean_return_list.append(mean_return)\n",
        "            no_of_episodes.append(episode_idx)\n",
        "    #print(\"Mean returns after 10000 episodes interval from starting state:\",state)                 \n",
        "    return ((mean_return_list,no_of_episodes))\n",
        "\n"
      ],
      "execution_count": null,
      "outputs": []
    },
    {
      "cell_type": "markdown",
      "metadata": {
        "id": "s838ZvqLO3zv",
        "colab_type": "text"
      },
      "source": [
        "### Function to get the result for all the starting positions for any given track\n",
        "\n",
        "    For SARSA we just need to change the class as SARSA and give the step size."
      ]
    },
    {
      "cell_type": "code",
      "metadata": {
        "id": "0ITBjWseLgC0",
        "colab_type": "code",
        "colab": {}
      },
      "source": [
        "# From each start position of a track, print the return for an episode\n",
        "def for_each_starting_coordinate(race_track,epsilon): \n",
        "    assert race_track in TRACK.keys()\n",
        "    track = TRACK[race_track]\n",
        "    \n",
        "    env = Racetrack(track)\n",
        "    \n",
        "    #create agent\n",
        "    mc = MonteCarlo(env,epsilon)\n",
        "    state = env.get_state()\n",
        "    print(\"starting state:\",state) \n",
        "    print(\"Training for {:d} Episodes\".format(TRAINING_EPISODES))\n",
        "    \n",
        "    for i, start_coordinates in enumerate(env.start_coordinates):\n",
        "    #create environment\n",
        "   \n",
        "        mean_return_list=[]\n",
        "        no_of_episodes=[]\n",
        "        for episode_idx in range(TRAINING_EPISODES):\n",
        "\n",
        "          # play episode\n",
        "          mc.play_episode()\n",
        "          mc.update_policy()\n",
        "\n",
        "          env.reset()\n",
        "\n",
        "          # maybe evaluate without exploration\n",
        "          if episode_idx > 0 and episode_idx % EVALUATION_FREQUENCY == 0:\n",
        "\n",
        "              returns = []\n",
        "              \n",
        "              for _ in range(EVALUATION_EPISODES):\n",
        "\n",
        "                  ret, _ = mc.play_episode(explore=False, learn=False)\n",
        "                  #print(ret)\n",
        "                  returns.append(ret)\n",
        "\n",
        "                  env.reset()\n",
        "\n",
        "              mean_return = np.mean(returns)\n",
        "              #print(\"mean return after {:d} episodes: {:.2f}\".format(episode_idx, mean_return))\n",
        "              \n",
        "              mean_return_list.append(mean_return)\n",
        "              no_of_episodes.append(episode_idx)\n",
        "         #print(\"Mean returns after 10000 episodes interval from starting state:\",state)                 \n",
        "        return ((mean_return_list,no_of_episodes))\n",
        "\n",
        "        # print(\"start_coordinates:\",start_coordinates)\n",
        "        # print(\"Return: {:.2f}\".format(mean_return))"
      ],
      "execution_count": null,
      "outputs": []
    },
    {
      "cell_type": "markdown",
      "metadata": {
        "id": "tzJu9Gjqt3PI",
        "colab_type": "text"
      },
      "source": [
        "### Class for SARSA\n",
        "\n",
        "    As mentioned earlier, the environment remains same. We change the update rule. In the function play episode, the main changes are made."
      ]
    },
    {
      "cell_type": "code",
      "metadata": {
        "id": "rBkONid1t6bV",
        "colab_type": "code",
        "colab": {}
      },
      "source": [
        "class SARSA:\n",
        "\n",
        "  NUM_ACTIONS = 9\n",
        "  NUM_SPEEDS = 5\n",
        "  ACTION_TO_ACCELERATION = np.array([[1, 1], [0, 1], [1, 0], [0, 0], [-1, 0], [0, -1], [1, -1], [-1, 1], [-1, -1]])\n",
        "\n",
        "  def __init__(self, env,epsilon,gamma=0.8,alpha, init=-100):\n",
        "\n",
        "    self.env = env\n",
        "    self.epsilon = epsilon\n",
        "    self.alpha = alpha\n",
        "    self.gamma = gamma\n",
        "    self.init = init\n",
        "\n",
        "    self.action_values = None\n",
        "    self.action_counts = None\n",
        "    self.policy = None\n",
        "    self.reset()\n",
        "\n",
        "  def play_episode(self,explore=True,learn=True):\n",
        "        sequence = []\n",
        "        state = self.env.get_state() #get the initial state\n",
        "        #print(self.env.start_coordinates)\n",
        "        if explore== False and learn==False:\n",
        "          while not self.env.done:\n",
        "            action = self.policy[state]\n",
        "\n",
        "        while not self.env.done:\n",
        "            if explore:\n",
        "                action = self.explore(self.policy[state])\n",
        "            else:\n",
        "                action = self.policy[state]\n",
        "            reward = self.env.act(*self.action_to_acceleration(action))\n",
        "            sequence.append((state,action,reward))\n",
        "            state=self.env.get_state()\n",
        "            ## In case we are not at the finishing point\n",
        "            try:\n",
        "                action = self.policy[state]\n",
        "            ## In case we are at the finishing point\n",
        "            except IndexError:  \n",
        "                break\n",
        "            #print(state)\n",
        "            #new_action = self.policy[new_state]\n",
        "            state_action = state + (action,)\n",
        "            x_change,y_change= self.action_to_acceleration(action)\n",
        "            self.env.velocity = (self.env.velocity[0] + x_change, self.env.velocity[1] + y_change)\n",
        "            self.env.correct_velocity()\n",
        "    \n",
        "            last_position = self.env.position\n",
        "            # Ensure that we are in the track\n",
        "            if self.env.check_position_out_of_bounds() or self.env.check_position_grass():\n",
        "                self.env.correct_invalid_position(last_position)\n",
        "            self.env.update_position(self.env.velocity)\n",
        "            # Get the next state\n",
        "            next_state=last_position+self.env.velocity\n",
        "            # Get the next action\n",
        "            next_action= self.policy[next_state]\n",
        "            next_state_action = next_state + (next_action,)\n",
        "            #Q(s, a) = Q(s, a) + alpha*[r + gamma * Q(s', a') - Q(s, a)]\n",
        "            self.action_values[state_action] += (self.alpha*reward)+(self.alpha*self.gamma*self.action_values[next_state_action])-(self.alpha*self.action_values[state_action])\n",
        "            state  = next_state\n",
        "            action = next_action\n",
        "        returns = np.zeros(len(sequence))\n",
        "        for i in reversed(range(len(sequence))):\n",
        "            for j in range(i + 1):\n",
        "                returns[j] += sequence[i][2]\n",
        "        return returns[0], sequence\n",
        "            \n",
        "  def reset(self):\n",
        "    \"\"\"\n",
        "    Reset agent.\n",
        "    :return:    None.\n",
        "    \"\"\"\n",
        "\n",
        "    self.action_values = \\\n",
        "      np.zeros((self.env.racetrack.shape[0], self.env.racetrack.shape[1], self.NUM_SPEEDS, self.NUM_SPEEDS,\n",
        "                self.NUM_ACTIONS), dtype=np.float32) - self.init\n",
        "    self.action_counts = \\\n",
        "      np.zeros((self.env.racetrack.shape[0], self.env.racetrack.shape[1], self.NUM_SPEEDS, self.NUM_SPEEDS,\n",
        "                self.NUM_ACTIONS), dtype=np.int32)\n",
        "    self.policy = np.zeros((self.env.racetrack.shape[0], self.env.racetrack.shape[1], self.NUM_SPEEDS, self.NUM_SPEEDS),\n",
        "                           dtype=np.int32)\n",
        "    #print(self.policy.shape)\n",
        "  def update_policy(self):\n",
        "    \"\"\"\n",
        "    Update epsilon-greedy policy using current action values.\n",
        "    :return:    None.\n",
        "    \"\"\"\n",
        "\n",
        "    # play action with maximum action value\n",
        "    self.policy = np.argmax(self.action_values, axis=-1)\n",
        "\n",
        "  def action_to_acceleration(self, action):\n",
        "    \"\"\"\n",
        "    Translate action index into acceleration in x and y axes.\n",
        "    :param action:    Action index.\n",
        "    :return:          Acceleration in x and y axes.\n",
        "    \"\"\"\n",
        "\n",
        "    return self.ACTION_TO_ACCELERATION[action]\n",
        "  \n",
        "\n",
        "  def explore(self, action):\n",
        "    \"\"\"\n",
        "    Select a random action with probability epsilon.\n",
        "    :param action:    Exploitation action.\n",
        "    :return:          Exploration action.\n",
        "    \"\"\"\n",
        "\n",
        "    if np.random.uniform(0, 1) < self.epsilon:\n",
        "      return np.random.randint(0, self.NUM_ACTIONS)\n",
        "    else:\n",
        "      return action\n",
        "  "
      ],
      "execution_count": null,
      "outputs": []
    },
    {
      "cell_type": "markdown",
      "metadata": {
        "id": "dw5S5_3WiCb8",
        "colab_type": "text"
      },
      "source": [
        "### Solve Racetrack by SARSA"
      ]
    },
    {
      "cell_type": "code",
      "metadata": {
        "id": "ryu1GwIjus9K",
        "colab_type": "code",
        "colab": {}
      },
      "source": [
        "TRAINING_EPISODES    = 500000\n",
        "EVALUATION_EPISODES  = 100\n",
        "EVALUATION_FREQUENCY = 10000\n",
        "\n",
        "#start solving the race track problem\n",
        "def solve_track_by_SARSA(race_track,epsilon,gamma,alpha):\n",
        "    assert race_track in TRACK.keys()\n",
        "    \n",
        "    #create environment\n",
        "    track = TRACK[race_track]\n",
        "    \n",
        "    env = Racetrack(track)\n",
        "    \n",
        "    #create agent\n",
        "    td = SARSA(env,epsilon,gamma=0.8,alpha)\n",
        "    state = env.get_state()\n",
        "    print(\"starting state:\",state) \n",
        "    print(\"Training for {:d} Episodes\".format(TRAINING_EPISODES))\n",
        "    \n",
        "    mean_return_list=[]\n",
        "    no_of_episodes=[]\n",
        "    for episode_idx in range(TRAINING_EPISODES):\n",
        "\n",
        "        # play episode\n",
        "        td.play_episode()\n",
        "        td.update_policy()\n",
        "\n",
        "        env.reset()\n",
        "\n",
        "        # maybe evaluate without exploration\n",
        "        if episode_idx > 0 and episode_idx % EVALUATION_FREQUENCY == 0:\n",
        "\n",
        "            returns = []\n",
        "            \n",
        "            for _ in range(EVALUATION_EPISODES):\n",
        "\n",
        "                ret, _ = td.play_episode(explore=False, learn=False)\n",
        "                returns.append(ret)\n",
        "\n",
        "                env.reset()\n",
        "\n",
        "            mean_return = np.mean(returns)\n",
        "            #print(\"mean return after {:d} episodes: {:.2f}\".format(episode_idx, mean_return))\n",
        "            \n",
        "            mean_return_list.append(mean_return)\n",
        "            no_of_episodes.append(episode_idx)\n",
        "    #print(\"Mean returns after 10000 episodes interval from starting state:\",state)                 \n",
        "    return ((mean_return_list,no_of_episodes))\n"
      ],
      "execution_count": null,
      "outputs": []
    },
    {
      "cell_type": "markdown",
      "metadata": {
        "id": "vMtcqkzf9iwt",
        "colab_type": "text"
      },
      "source": [
        "### Racetracks (Check how the three racetracks looks like)"
      ]
    },
    {
      "cell_type": "code",
      "metadata": {
        "scrolled": false,
        "id": "rna8vO9n9iwv",
        "colab_type": "code",
        "colab": {
          "base_uri": "https://localhost:8080/",
          "height": 875
        },
        "outputId": "72016833-bb0a-4050-ca1d-687874041634"
      },
      "source": [
        "env_1=Racetrack(TRACK[\"track_1\"])\n",
        "env_2=Racetrack(TRACK[\"track_2\"])\n",
        "env_3=Racetrack(TRACK[\"track_3\"])\n",
        "\n",
        "env_1.show_racetrack(save_path=None, show_legend=True)\n",
        "env_2.show_racetrack(save_path=None, show_legend=True)\n",
        "env_3.show_racetrack(save_path=None, show_legend=True)"
      ],
      "execution_count": null,
      "outputs": [
        {
          "output_type": "display_data",
          "data": {
            "image/png": "[encoded data removed]",
            "text/plain": [
              "<Figure size 1080x360 with 1 Axes>"
            ]
          },
          "metadata": {
            "tags": []
          }
        },
        {
          "output_type": "display_data",
          "data": {
            "image/png": "[encoded data removed]",
            "text/plain": [
              "<Figure size 1080x360 with 1 Axes>"
            ]
          },
          "metadata": {
            "tags": []
          }
        },
        {
          "output_type": "display_data",
          "data": {
            "image/png": "[encoded data removed]",
            "text/plain": [
              "<Figure size 1080x360 with 1 Axes>"
            ]
          },
          "metadata": {
            "tags": []
          }
        }
      ]
    },
    {
      "cell_type": "code",
      "metadata": {
        "id": "Xo9MmoR89iw1",
        "colab_type": "code",
        "colab": {}
      },
      "source": [
        "agent_1=MonteCarlo(env_1,0.1,init=-100)\n",
        "agent_2=MonteCarlo(env_2,0.1,init=-100)\n",
        "agent_3=MonteCarlo(env_3,0.1,init=-100)\n",
        "\n",
        "t1=agent_1.play_episode(explore=True, learn=True)\n",
        "t2=agent_2.play_episode(explore=True, learn=True)\n",
        "t3=agent_3.play_episode(explore=True, learn=True)"
      ],
      "execution_count": null,
      "outputs": []
    },
    {
      "cell_type": "markdown",
      "metadata": {
        "id": "HsLyElrpPPaw",
        "colab_type": "text"
      },
      "source": [
        "### Plot of how we proceed towards the finishing line in an episode"
      ]
    },
    {
      "cell_type": "code",
      "metadata": {
        "id": "pVJo8Md-gATu",
        "colab_type": "code",
        "colab": {
          "base_uri": "https://localhost:8080/",
          "height": 875
        },
        "outputId": "dc47c477-e5bf-4b1f-87cd-41fdd3a15f90"
      },
      "source": [
        "agent_1.show_sequence(t1[1])\n",
        "agent_2.show_sequence(t2[1])\n",
        "agent_3.show_sequence(t3[1])\n"
      ],
      "execution_count": null,
      "outputs": [
        {
          "output_type": "display_data",
          "data": {
            "image/png": "[encoded data removed]",
            "text/plain": [
              "<Figure size 1080x360 with 1 Axes>"
            ]
          },
          "metadata": {
            "tags": []
          }
        },
        {
          "output_type": "display_data",
          "data": {
            "image/png": "[encoded data removed]",
            "text/plain": [
              "<Figure size 1080x360 with 1 Axes>"
            ]
          },
          "metadata": {
            "tags": []
          }
        },
        {
          "output_type": "display_data",
          "data": {
            "image/png": "[encoded data removed]",
            "text/plain": [
              "<Figure size 1080x360 with 1 Axes>"
            ]
          },
          "metadata": {
            "tags": []
          }
        }
      ]
    },
    {
      "cell_type": "markdown",
      "metadata": {
        "id": "Oc0wPPOA9iw6",
        "colab_type": "text"
      },
      "source": [
        "#### Get return for each of the starting position of a track"
      ]
    },
    {
      "cell_type": "code",
      "metadata": {
        "id": "iEPnb-De9iw8",
        "colab_type": "code",
        "colab": {
          "base_uri": "https://localhost:8080/",
          "height": 408
        },
        "outputId": "95683bf9-94fb-4ae4-effc-e39e95554d38"
      },
      "source": [
        "###for_each_starting_coordinate(\"track_3\",0.1)  ## Run this to get results for each starting coordinate of any track, takes time\n",
        "env_3.start_coordinates    ### Track 3 has 23 starting positions, so to run the above code  it will take some time"
      ],
      "execution_count": null,
      "outputs": [
        {
          "output_type": "execute_result",
          "data": {
            "text/plain": [
              "[(29, 0),\n",
              " (29, 1),\n",
              " (29, 2),\n",
              " (29, 3),\n",
              " (29, 4),\n",
              " (29, 5),\n",
              " (29, 6),\n",
              " (29, 7),\n",
              " (29, 8),\n",
              " (29, 9),\n",
              " (29, 10),\n",
              " (29, 11),\n",
              " (29, 12),\n",
              " (29, 13),\n",
              " (29, 14),\n",
              " (29, 15),\n",
              " (29, 16),\n",
              " (29, 17),\n",
              " (29, 18),\n",
              " (29, 19),\n",
              " (29, 20),\n",
              " (29, 21),\n",
              " (29, 22)]"
            ]
          },
          "metadata": {
            "tags": []
          },
          "execution_count": 61
        }
      ]
    },
    {
      "cell_type": "code",
      "metadata": {
        "id": "RYocDMTGi-NE",
        "colab_type": "code",
        "colab": {
          "base_uri": "https://localhost:8080/",
          "height": 34
        },
        "outputId": "4210528b-10a4-4a05-a122-c62b02e9aafb"
      },
      "source": [
        "env_2.start_coordinates    ### Track 2 has 6 starting positions"
      ],
      "execution_count": null,
      "outputs": [
        {
          "output_type": "execute_result",
          "data": {
            "text/plain": [
              "[(31, 3), (31, 4), (31, 5), (31, 6), (31, 7), (31, 8)]"
            ]
          },
          "metadata": {
            "tags": []
          },
          "execution_count": 68
        }
      ]
    },
    {
      "cell_type": "markdown",
      "metadata": {
        "id": "2vk36xSLw7BY",
        "colab_type": "text"
      },
      "source": [
        "## Plots corresponding to Monte Carlo Method"
      ]
    },
    {
      "cell_type": "markdown",
      "metadata": {
        "id": "aBiOtcV6Paky",
        "colab_type": "text"
      },
      "source": [
        "### Plots for different epsilon , for different track\n",
        "       Mean return vs no of episodes"
      ]
    },
    {
      "cell_type": "markdown",
      "metadata": {
        "id": "xSex_zZw9ixI",
        "colab_type": "text"
      },
      "source": [
        "### Track 2, Epsilon - 0.1"
      ]
    },
    {
      "cell_type": "code",
      "metadata": {
        "scrolled": true,
        "id": "RnnBwRYF9ixM",
        "colab_type": "code",
        "colab": {
          "base_uri": "https://localhost:8080/",
          "height": 68
        },
        "outputId": "07246e0d-d027-43ca-9fdf-498a87c21856"
      },
      "source": [
        "#plot_1\n",
        "start=time.time()\n",
        "y_axis,x_axis=solve_track_by_montecarlo('track_2',0.1)\n",
        "end=time.time()\n",
        "print(\"Time taken:\",end-start)"
      ],
      "execution_count": null,
      "outputs": [
        {
          "output_type": "stream",
          "text": [
            "starting state: (31, 8, 0, 0)\n",
            "Training for 500000 Episodes\n",
            "Time taken: 393.94862151145935\n"
          ],
          "name": "stdout"
        }
      ]
    },
    {
      "cell_type": "code",
      "metadata": {
        "id": "urKcs7Tv9ixT",
        "colab_type": "code",
        "colab": {
          "base_uri": "https://localhost:8080/",
          "height": 282
        },
        "outputId": "70d5728e-a1fe-430a-c1df-0507d2a6bf42"
      },
      "source": [
        "#plot_1\n",
        "plt.plot(x_axis, y_axis) "
      ],
      "execution_count": null,
      "outputs": [
        {
          "output_type": "execute_result",
          "data": {
            "text/plain": [
              "[<matplotlib.lines.Line2D at 0x7f3563154cf8>]"
            ]
          },
          "metadata": {
            "tags": []
          },
          "execution_count": 113
        },
        {
          "output_type": "display_data",
          "data": {
            "image/png": "[encoded data removed]",
            "text/plain": [
              "<Figure size 432x288 with 1 Axes>"
            ]
          },
          "metadata": {
            "tags": []
          }
        }
      ]
    },
    {
      "cell_type": "markdown",
      "metadata": {
        "id": "f4HyRj8C9ixY",
        "colab_type": "text"
      },
      "source": [
        "### Track 2, Epsilon - 0.4"
      ]
    },
    {
      "cell_type": "code",
      "metadata": {
        "id": "2uTbsNRQ9ixa",
        "colab_type": "code",
        "colab": {
          "base_uri": "https://localhost:8080/",
          "height": 68
        },
        "outputId": "ef3e8e68-c29a-44a8-9366-f77af0ef439e"
      },
      "source": [
        "#plot_2\n",
        "start=time.time()\n",
        "y_axis,x_axis=solve_track_by_montecarlo('track_2',0.4)\n",
        "end=time.time()\n",
        "print(\"Time taken:\",end-start)"
      ],
      "execution_count": null,
      "outputs": [
        {
          "output_type": "stream",
          "text": [
            "starting state: (31, 8, 0, 0)\n",
            "Training for 500000 Episodes\n",
            "Time taken: 405.52411580085754\n"
          ],
          "name": "stdout"
        }
      ]
    },
    {
      "cell_type": "code",
      "metadata": {
        "id": "lqloWoPJ9ixi",
        "colab_type": "code",
        "colab": {},
        "outputId": "de506cad-d59a-46a8-b4f1-4464a56e8f00"
      },
      "source": [
        "plt.plot(x_axis, y_axis) "
      ],
      "execution_count": null,
      "outputs": [
        {
          "output_type": "execute_result",
          "data": {
            "text/plain": [
              "[<matplotlib.lines.Line2D at 0x7f11cd09c748>]"
            ]
          },
          "metadata": {
            "tags": []
          },
          "execution_count": 112
        },
        {
          "output_type": "display_data",
          "data": {
            "image/png": "[encoded data removed]",
            "text/plain": [
              "<Figure size 432x288 with 1 Axes>"
            ]
          },
          "metadata": {
            "tags": [],
            "needs_background": "light"
          }
        }
      ]
    },
    {
      "cell_type": "markdown",
      "metadata": {
        "id": "c8Omr73QAO0_",
        "colab_type": "text"
      },
      "source": [
        "### Track 3 , Epsilon 0.1"
      ]
    },
    {
      "cell_type": "code",
      "metadata": {
        "id": "nPJb1sS49ixo",
        "colab_type": "code",
        "colab": {
          "base_uri": "https://localhost:8080/",
          "height": 68
        },
        "outputId": "53d2acef-1e9c-422a-dd5e-db1557bad0ab"
      },
      "source": [
        "#plot_3, track 3, epsilon 0.1\n",
        "start=time.time()\n",
        "y_axis,x_axis=solve_track_by_montecarlo('track_3',0.1)\n",
        "end=time.time()\n",
        "print(\"Time taken:\",end-start)"
      ],
      "execution_count": null,
      "outputs": [
        {
          "output_type": "stream",
          "text": [
            "starting state: (29, 4, 0, 0)\n",
            "Training for 500000 Episodes\n",
            "Time taken: 438.08333706855774\n"
          ],
          "name": "stdout"
        }
      ]
    },
    {
      "cell_type": "code",
      "metadata": {
        "id": "WtxdsfGeDh3W",
        "colab_type": "code",
        "colab": {
          "base_uri": "https://localhost:8080/",
          "height": 282
        },
        "outputId": "386c1cb4-b822-4c4c-8187-5b6f0a573769"
      },
      "source": [
        "plt.plot(x_axis, y_axis) "
      ],
      "execution_count": null,
      "outputs": [
        {
          "output_type": "execute_result",
          "data": {
            "text/plain": [
              "[<matplotlib.lines.Line2D at 0x7f3563d7ef28>]"
            ]
          },
          "metadata": {
            "tags": []
          },
          "execution_count": 17
        },
        {
          "output_type": "display_data",
          "data": {
            "image/png": "[encoded data removed]",
            "text/plain": [
              "<Figure size 432x288 with 1 Axes>"
            ]
          },
          "metadata": {
            "tags": []
          }
        }
      ]
    },
    {
      "cell_type": "markdown",
      "metadata": {
        "id": "LWEm9DEkAr9u",
        "colab_type": "text"
      },
      "source": [
        "### Track 3 , Epsilon 0.4"
      ]
    },
    {
      "cell_type": "code",
      "metadata": {
        "id": "zwv1D0APAulk",
        "colab_type": "code",
        "colab": {
          "base_uri": "https://localhost:8080/",
          "height": 68
        },
        "outputId": "4badb7ad-0c4f-4ac1-885b-f32ddfff459c"
      },
      "source": [
        "#plot_4, track 3, epsilon 0.4\n",
        "# different starting state\n",
        "start=time.time()\n",
        "y_axis,x_axis=solve_track_by_montecarlo('track_3',0.4)\n",
        "end=time.time()\n",
        "print(\"Time taken:\",end-start)"
      ],
      "execution_count": null,
      "outputs": [
        {
          "output_type": "stream",
          "text": [
            "starting state: (29, 2, 0, 0)\n",
            "Training for 500000 Episodes\n",
            "Time taken: 525.5893635749817\n"
          ],
          "name": "stdout"
        }
      ]
    },
    {
      "cell_type": "code",
      "metadata": {
        "id": "Wxa-qpaCJaaK",
        "colab_type": "code",
        "colab": {
          "base_uri": "https://localhost:8080/",
          "height": 282
        },
        "outputId": "98a08716-b063-4f1d-9558-61a90bb9e943"
      },
      "source": [
        "plt.plot(x_axis, y_axis) "
      ],
      "execution_count": null,
      "outputs": [
        {
          "output_type": "execute_result",
          "data": {
            "text/plain": [
              "[<matplotlib.lines.Line2D at 0x7f35636f6a90>]"
            ]
          },
          "metadata": {
            "tags": []
          },
          "execution_count": 63
        },
        {
          "output_type": "display_data",
          "data": {
            "image/png": "[encoded data removed]",
            "text/plain": [
              "<Figure size 432x288 with 1 Axes>"
            ]
          },
          "metadata": {
            "tags": []
          }
        }
      ]
    },
    {
      "cell_type": "markdown",
      "metadata": {
        "id": "x31Rc-hzQt2r",
        "colab_type": "text"
      },
      "source": [
        "### Track 1, Epsilon 0.1"
      ]
    },
    {
      "cell_type": "code",
      "metadata": {
        "id": "A5xRAfWpQTSv",
        "colab_type": "code",
        "colab": {
          "base_uri": "https://localhost:8080/",
          "height": 68
        },
        "outputId": "39fc66de-6df7-4b7a-c4bb-cb571a6da254"
      },
      "source": [
        "#plot_5\n",
        "start=time.time()\n",
        "y_axis,x_axis=solve_track_by_montecarlo('track_1',0.1)\n",
        "end=time.time()\n",
        "print(\"Time taken:\",end-start)"
      ],
      "execution_count": null,
      "outputs": [
        {
          "output_type": "stream",
          "text": [
            "starting state: (6, 1, 0, 0)\n",
            "Training for 500000 Episodes\n",
            "Time taken: 90.39441061019897\n"
          ],
          "name": "stdout"
        }
      ]
    },
    {
      "cell_type": "code",
      "metadata": {
        "id": "3XpODkfpQTlK",
        "colab_type": "code",
        "colab": {
          "base_uri": "https://localhost:8080/",
          "height": 282
        },
        "outputId": "727ff854-696b-49a1-d73a-44f050122f4c"
      },
      "source": [
        "plt.plot(x_axis, y_axis) "
      ],
      "execution_count": null,
      "outputs": [
        {
          "output_type": "execute_result",
          "data": {
            "text/plain": [
              "[<matplotlib.lines.Line2D at 0x7f3563cf6588>]"
            ]
          },
          "metadata": {
            "tags": []
          },
          "execution_count": 65
        },
        {
          "output_type": "display_data",
          "data": {
            "image/png": "[encoded data removed]",
            "text/plain": [
              "<Figure size 432x288 with 1 Axes>"
            ]
          },
          "metadata": {
            "tags": []
          }
        }
      ]
    },
    {
      "cell_type": "markdown",
      "metadata": {
        "id": "ia2u1QD7Q2N_",
        "colab_type": "text"
      },
      "source": [
        "### Track 1, Epsilon 0.4\n",
        "\n"
      ]
    },
    {
      "cell_type": "code",
      "metadata": {
        "id": "mJQdAzRJfyEG",
        "colab_type": "code",
        "colab": {
          "base_uri": "https://localhost:8080/",
          "height": 333
        },
        "outputId": "84ffe61d-96ba-498b-cb59-ca01ffff1bd1"
      },
      "source": [
        "#plot_6\n",
        "start=time.time()\n",
        "y_axis,x_axis=solve_track_by_montecarlo('track_1',0.4)\n",
        "end=time.time()\n",
        "print(\"Time taken:\",end-start)\n",
        "plt.plot(x_axis, y_axis) "
      ],
      "execution_count": null,
      "outputs": [
        {
          "output_type": "stream",
          "text": [
            "starting state: (6, 1, 0, 0)\n",
            "Training for 500000 Episodes\n",
            "Time taken: 117.80333161354065\n"
          ],
          "name": "stdout"
        },
        {
          "output_type": "execute_result",
          "data": {
            "text/plain": [
              "[<matplotlib.lines.Line2D at 0x7f3562bb3358>]"
            ]
          },
          "metadata": {
            "tags": []
          },
          "execution_count": 167
        },
        {
          "output_type": "display_data",
          "data": {
            "image/png": "[encoded data removed]",
            "text/plain": [
              "<Figure size 432x288 with 1 Axes>"
            ]
          },
          "metadata": {
            "tags": []
          }
        }
      ]
    },
    {
      "cell_type": "markdown",
      "metadata": {
        "id": "iw_gxjAAxAY_",
        "colab_type": "text"
      },
      "source": [
        "## SARSA"
      ]
    },
    {
      "cell_type": "markdown",
      "metadata": {
        "id": "IrGG0b2yLSUf",
        "colab_type": "text"
      },
      "source": [
        "#### Track 2, epsilon 0.1, alpha 0.8"
      ]
    },
    {
      "cell_type": "code",
      "metadata": {
        "id": "K6uhMWE55aES",
        "colab_type": "code",
        "colab": {
          "base_uri": "https://localhost:8080/",
          "height": 68
        },
        "outputId": "945f3b38-72cf-4e3d-a4bd-5a4fd977430a"
      },
      "source": [
        "#plot\n",
        "start=time.time()\n",
        "y_axis,x_axis=solve_track_by_SARSA('track_2',epsilon=0.1,alpha=0.8)\n",
        "end=time.time()\n",
        "print(\"Time taken:\",end-start)"
      ],
      "execution_count": null,
      "outputs": [
        {
          "output_type": "stream",
          "text": [
            "starting state: (31, 6, 0, 0)\n",
            "Training for 500000 Episodes\n",
            "Time taken: 408.20294666290283\n"
          ],
          "name": "stdout"
        }
      ]
    },
    {
      "cell_type": "code",
      "metadata": {
        "id": "e5HlpGsi5fTf",
        "colab_type": "code",
        "colab": {
          "base_uri": "https://localhost:8080/",
          "height": 282
        },
        "outputId": "a50ee5e5-9414-498d-c37f-29745de22995"
      },
      "source": [
        "plt.plot(x_axis, y_axis) "
      ],
      "execution_count": null,
      "outputs": [
        {
          "output_type": "execute_result",
          "data": {
            "text/plain": [
              "[<matplotlib.lines.Line2D at 0x7f35633fce10>]"
            ]
          },
          "metadata": {
            "tags": []
          },
          "execution_count": 93
        },
        {
          "output_type": "display_data",
          "data": {
            "image/png": "[encoded data removed]",
            "text/plain": [
              "<Figure size 432x288 with 1 Axes>"
            ]
          },
          "metadata": {
            "tags": []
          }
        }
      ]
    },
    {
      "cell_type": "markdown",
      "metadata": {
        "id": "amk8Xbg8QV9G",
        "colab_type": "text"
      },
      "source": [
        "#### Track 2, epsilon 0.4, alpha 0.8"
      ]
    },
    {
      "cell_type": "code",
      "metadata": {
        "id": "q9fu9Yr6LeTS",
        "colab_type": "code",
        "colab": {
          "base_uri": "https://localhost:8080/",
          "height": 68
        },
        "outputId": "e87c266b-a762-4aa8-b80b-1bcae3e62b61"
      },
      "source": [
        "#plot\n",
        "# Result unsatisfactory\n",
        "start=time.time()\n",
        "y_axis,x_axis=solve_track_by_SARSA('track_2',epsilon=0.4,alpha=0.8)\n",
        "end=time.time()\n",
        "print(\"Time taken:\",end-start)"
      ],
      "execution_count": null,
      "outputs": [
        {
          "output_type": "stream",
          "text": [
            "starting state: (31, 6, 0, 0)\n",
            "Training for 500000 Episodes\n",
            "Time taken: 481.22072553634644\n"
          ],
          "name": "stdout"
        }
      ]
    },
    {
      "cell_type": "code",
      "metadata": {
        "id": "OB_BbLsLMXFz",
        "colab_type": "code",
        "colab": {
          "base_uri": "https://localhost:8080/",
          "height": 282
        },
        "outputId": "b89d2446-e38a-4482-cfee-bfe9dcad7851"
      },
      "source": [
        "plt.plot(x_axis, y_axis) "
      ],
      "execution_count": null,
      "outputs": [
        {
          "output_type": "execute_result",
          "data": {
            "text/plain": [
              "[<matplotlib.lines.Line2D at 0x7f35631fce80>]"
            ]
          },
          "metadata": {
            "tags": []
          },
          "execution_count": 111
        },
        {
          "output_type": "display_data",
          "data": {
            "image/png": "[encoded data removed]",
            "text/plain": [
              "<Figure size 432x288 with 1 Axes>"
            ]
          },
          "metadata": {
            "tags": []
          }
        }
      ]
    },
    {
      "cell_type": "markdown",
      "metadata": {
        "id": "Ts2-KzFVUBqH",
        "colab_type": "text"
      },
      "source": [
        "#### Track 2, epsilon 0.1, alpha 0.5"
      ]
    },
    {
      "cell_type": "code",
      "metadata": {
        "id": "7woME13dUFd2",
        "colab_type": "code",
        "colab": {
          "base_uri": "https://localhost:8080/",
          "height": 316
        },
        "outputId": "28d2b4f2-3d5d-4b65-a41e-d07f935c0de5"
      },
      "source": [
        "y_axis,x_axis=solve_track_by_SARSA('track_2',epsilon=0.1,alpha=0.5)\n",
        "plt.plot(x_axis, y_axis) "
      ],
      "execution_count": null,
      "outputs": [
        {
          "output_type": "stream",
          "text": [
            "starting state: (31, 3, 0, 0)\n",
            "Training for 500000 Episodes\n"
          ],
          "name": "stdout"
        },
        {
          "output_type": "execute_result",
          "data": {
            "text/plain": [
              "[<matplotlib.lines.Line2D at 0x7f3562d6f668>]"
            ]
          },
          "metadata": {
            "tags": []
          },
          "execution_count": 160
        },
        {
          "output_type": "display_data",
          "data": {
            "image/png": "[encoded data removed]",
            "text/plain": [
              "<Figure size 432x288 with 1 Axes>"
            ]
          },
          "metadata": {
            "tags": []
          }
        }
      ]
    },
    {
      "cell_type": "markdown",
      "metadata": {
        "id": "Mlola-11Vt1q",
        "colab_type": "text"
      },
      "source": [
        "#### Track 2, epsilon 0.1, alpha 0.8"
      ]
    },
    {
      "cell_type": "code",
      "metadata": {
        "id": "i2SM-7vNUPZm",
        "colab_type": "code",
        "colab": {
          "base_uri": "https://localhost:8080/",
          "height": 316
        },
        "outputId": "21c3202d-6e2d-40eb-ba62-6d60974db38a"
      },
      "source": [
        "y_axis,x_axis=solve_track_by_SARSA('track_2',epsilon=0.1,alpha=0.8)\n",
        "plt.plot(x_axis, y_axis) "
      ],
      "execution_count": null,
      "outputs": [
        {
          "output_type": "stream",
          "text": [
            "starting state: (31, 3, 0, 0)\n",
            "Training for 500000 Episodes\n"
          ],
          "name": "stdout"
        },
        {
          "output_type": "execute_result",
          "data": {
            "text/plain": [
              "[<matplotlib.lines.Line2D at 0x7f3562d53320>]"
            ]
          },
          "metadata": {
            "tags": []
          },
          "execution_count": 163
        },
        {
          "output_type": "display_data",
          "data": {
            "image/png": "[encoded data removed]",
            "text/plain": [
              "<Figure size 432x288 with 1 Axes>"
            ]
          },
          "metadata": {
            "tags": []
          }
        }
      ]
    },
    {
      "cell_type": "markdown",
      "metadata": {
        "id": "FMYAavmpMZfU",
        "colab_type": "text"
      },
      "source": [
        "### Comparison of two approaches for track 3 with epsilon 0.1, alpha 0.8"
      ]
    },
    {
      "cell_type": "code",
      "metadata": {
        "id": "B7n8e1SpNKBD",
        "colab_type": "code",
        "colab": {
          "base_uri": "https://localhost:8080/",
          "height": 51
        },
        "outputId": "5538fa03-622d-47d8-cb8f-707f1b8ad6d8"
      },
      "source": [
        "y_axis_mc,x_axis_mc =solve_track_by_montecarlo('track_3',epsilon=0.1)"
      ],
      "execution_count": null,
      "outputs": [
        {
          "output_type": "stream",
          "text": [
            "starting state: (29, 20, 0, 0)\n",
            "Training for 500000 Episodes\n"
          ],
          "name": "stdout"
        }
      ]
    },
    {
      "cell_type": "code",
      "metadata": {
        "id": "IYDHFhlzRA-R",
        "colab_type": "code",
        "colab": {
          "base_uri": "https://localhost:8080/",
          "height": 51
        },
        "outputId": "8ae422ae-b001-4fa5-ac4c-e3591e027284"
      },
      "source": [
        "y_axis_td,x_axis_td =solve_track_by_SARSA('track_3',epsilon=0.1,alpha=0.8)"
      ],
      "execution_count": null,
      "outputs": [
        {
          "output_type": "stream",
          "text": [
            "starting state: (29, 20, 0, 0)\n",
            "Training for 500000 Episodes\n"
          ],
          "name": "stdout"
        }
      ]
    },
    {
      "cell_type": "code",
      "metadata": {
        "id": "brzMGHosMYEw",
        "colab_type": "code",
        "colab": {
          "base_uri": "https://localhost:8080/",
          "height": 302
        },
        "outputId": "8cc491b3-7cbd-489a-8470-cae001a2d599"
      },
      "source": [
        "plt.subplot(1, 2, 1)\n",
        "plt.plot(x_axis_mc, y_axis_mc) \n",
        "plt.subplot(1, 2, 2)\n",
        "plt.plot(x_axis_td, y_axis_td) \n"
      ],
      "execution_count": null,
      "outputs": [
        {
          "output_type": "execute_result",
          "data": {
            "text/plain": [
              "<matplotlib.axes._subplots.AxesSubplot at 0x7f3562e30b70>"
            ]
          },
          "metadata": {
            "tags": []
          },
          "execution_count": 157
        },
        {
          "output_type": "execute_result",
          "data": {
            "text/plain": [
              "[<matplotlib.lines.Line2D at 0x7f3562e75940>]"
            ]
          },
          "metadata": {
            "tags": []
          },
          "execution_count": 157
        },
        {
          "output_type": "execute_result",
          "data": {
            "text/plain": [
              "<matplotlib.axes._subplots.AxesSubplot at 0x7f3562e58550>"
            ]
          },
          "metadata": {
            "tags": []
          },
          "execution_count": 157
        },
        {
          "output_type": "execute_result",
          "data": {
            "text/plain": [
              "[<matplotlib.lines.Line2D at 0x7f3562e58a20>]"
            ]
          },
          "metadata": {
            "tags": []
          },
          "execution_count": 157
        },
        {
          "output_type": "display_data",
          "data": {
            "image/png": "[encoded data removed]",
            "text/plain": [
              "<Figure size 432x288 with 2 Axes>"
            ]
          },
          "metadata": {
            "tags": []
          }
        }
      ]
    },
    {
      "cell_type": "markdown",
      "metadata": {
        "id": "y57HqDjJWtVS",
        "colab_type": "text"
      },
      "source": [
        "    Based on the value of epsilon and alpha we are getting different results.(Convergence behaviour changes)\n",
        "    We can see the comparison of the approaches. Though based on value of alpha, we will get diiferent result.So the comparison is based on particular value of epsilon and alpha.\n",
        "    From the graphs of comparison,it seems TD converges faster but at the end both doesn't show proper convergence in this case."
      ]
    }
  ]
}